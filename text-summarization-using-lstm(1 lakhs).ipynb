{
 "cells": [
  {
   "cell_type": "markdown",
   "metadata": {},
   "source": [
    "# ***Adding requirement for attention layer***"
   ]
  },
  {
   "cell_type": "code",
   "execution_count": 1,
   "metadata": {},
   "outputs": [
    {
     "data": {
      "text/plain": [
       "'from shutil import copyfile\\ncopyfile(src = \"../input/attention/attention.py\", dst = \"../working/attention.py\")'"
      ]
     },
     "execution_count": 1,
     "metadata": {},
     "output_type": "execute_result"
    }
   ],
   "source": [
    "'''from shutil import copyfile\n",
    "copyfile(src = \"../input/attention/attention.py\", dst = \"../working/attention.py\")'''"
   ]
  },
  {
   "cell_type": "markdown",
   "metadata": {},
   "source": [
    "# ***importing required libraries***"
   ]
  },
  {
   "cell_type": "code",
   "execution_count": 2,
   "metadata": {
    "_cell_guid": "b1076dfc-b9ad-4769-8c92-a6c4dae69d19",
    "_uuid": "8f2839f25d086af736a60e9eeb907d3b93b6e0e5",
    "id": "_Jpu8qLEFxcY",
    "outputId": "95968e01-faac-4911-c802-9c008a4e62cf"
   },
   "outputs": [
    {
     "name": "stderr",
     "output_type": "stream",
     "text": [
      "Using TensorFlow backend.\n"
     ]
    }
   ],
   "source": [
    "import numpy as np\n",
    "import pandas as pd \n",
    "import re\n",
    "from bs4 import BeautifulSoup\n",
    "from keras.preprocessing.text import Tokenizer \n",
    "from keras.preprocessing.sequence import pad_sequences\n",
    "from nltk.corpus import stopwords\n",
    "from tensorflow.keras.layers import Input, LSTM, Embedding, Dense, Concatenate, TimeDistributed\n",
    "from tensorflow.keras.models import Model\n",
    "from tensorflow.keras.callbacks import EarlyStopping, ModelCheckpoint\n",
    "import warnings\n",
    "from attention_keras.layers.attention import AttentionLayer\n",
    "pd.set_option(\"display.max_colwidth\", 200)\n",
    "warnings.filterwarnings(\"ignore\")\n",
    "from keras import backend as K\n",
    "from keras.models import load_model\n",
    "K.clear_session()"
   ]
  },
  {
   "cell_type": "markdown",
   "metadata": {},
   "source": [
    "# ***Loading dataset to the notebook***"
   ]
  },
  {
   "cell_type": "code",
   "execution_count": 3,
   "metadata": {
    "id": "wnK5o4Z1Fxcj"
   },
   "outputs": [],
   "source": [
    "data=pd.read_csv(\"/home/singhabhi/Reviews.csv\")[:100000]"
   ]
  },
  {
   "cell_type": "markdown",
   "metadata": {},
   "source": [
    "# ***Dropping duplicate reviews and null values***"
   ]
  },
  {
   "cell_type": "code",
   "execution_count": 4,
   "metadata": {
    "id": "Cjul88oOFxcr"
   },
   "outputs": [],
   "source": [
    "data.drop_duplicates(subset=['Text'],inplace=True)#dropping duplicates\n",
    "data.dropna(axis=0,inplace=True)#dropping na"
   ]
  },
  {
   "cell_type": "markdown",
   "metadata": {},
   "source": [
    "# ***Information about datatypes and shape of the dataset***"
   ]
  },
  {
   "cell_type": "code",
   "execution_count": 5,
   "metadata": {
    "id": "__fy-JxTFxc9",
    "outputId": "d42c6e36-bbc8-43c2-de0e-d3effe3e8c4c"
   },
   "outputs": [
    {
     "name": "stdout",
     "output_type": "stream",
     "text": [
      "<class 'pandas.core.frame.DataFrame'>\n",
      "Int64Index: 88421 entries, 0 to 99999\n",
      "Data columns (total 10 columns):\n",
      " #   Column                  Non-Null Count  Dtype \n",
      "---  ------                  --------------  ----- \n",
      " 0   Id                      88421 non-null  int64 \n",
      " 1   ProductId               88421 non-null  object\n",
      " 2   UserId                  88421 non-null  object\n",
      " 3   ProfileName             88421 non-null  object\n",
      " 4   HelpfulnessNumerator    88421 non-null  int64 \n",
      " 5   HelpfulnessDenominator  88421 non-null  int64 \n",
      " 6   Score                   88421 non-null  int64 \n",
      " 7   Time                    88421 non-null  int64 \n",
      " 8   Summary                 88421 non-null  object\n",
      " 9   Text                    88421 non-null  object\n",
      "dtypes: int64(5), object(5)\n",
      "memory usage: 7.4+ MB\n"
     ]
    }
   ],
   "source": [
    "data.info()"
   ]
  },
  {
   "cell_type": "markdown",
   "metadata": {},
   "source": [
    "# ***Dictionary for expanding the contractions***"
   ]
  },
  {
   "cell_type": "code",
   "execution_count": 6,
   "metadata": {
    "id": "0s6IY-x2FxdL"
   },
   "outputs": [],
   "source": [
    "contraction_mapping = {\"ain't\": \"is not\", \"aren't\": \"are not\",\"can't\": \"cannot\", \"'cause\": \"because\", \"could've\": \"could have\", \"couldn't\": \"could not\",\n",
    "                           \"didn't\": \"did not\",  \"doesn't\": \"does not\", \"don't\": \"do not\", \"hadn't\": \"had not\", \"hasn't\": \"has not\", \"haven't\": \"have not\",\n",
    "                           \"he'd\": \"he would\",\"he'll\": \"he will\", \"he's\": \"he is\", \"how'd\": \"how did\", \"how'd'y\": \"how do you\", \"how'll\": \"how will\", \"how's\": \"how is\",\n",
    "                           \"I'd\": \"I would\", \"I'd've\": \"I would have\", \"I'll\": \"I will\", \"I'll've\": \"I will have\",\"I'm\": \"I am\", \"I've\": \"I have\", \"i'd\": \"i would\",\n",
    "                           \"i'd've\": \"i would have\", \"i'll\": \"i will\",  \"i'll've\": \"i will have\",\"i'm\": \"i am\", \"i've\": \"i have\", \"isn't\": \"is not\", \"it'd\": \"it would\",\n",
    "                           \"it'd've\": \"it would have\", \"it'll\": \"it will\", \"it'll've\": \"it will have\",\"it's\": \"it is\", \"let's\": \"let us\", \"ma'am\": \"madam\",\n",
    "                           \"mayn't\": \"may not\", \"might've\": \"might have\",\"mightn't\": \"might not\",\"mightn't've\": \"might not have\", \"must've\": \"must have\",\n",
    "                           \"mustn't\": \"must not\", \"mustn't've\": \"must not have\", \"needn't\": \"need not\", \"needn't've\": \"need not have\",\"o'clock\": \"of the clock\",\n",
    "                           \"oughtn't\": \"ought not\", \"oughtn't've\": \"ought not have\", \"shan't\": \"shall not\", \"sha'n't\": \"shall not\", \"shan't've\": \"shall not have\",\n",
    "                           \"she'd\": \"she would\", \"she'd've\": \"she would have\", \"she'll\": \"she will\", \"she'll've\": \"she will have\", \"she's\": \"she is\",\n",
    "                           \"should've\": \"should have\", \"shouldn't\": \"should not\", \"shouldn't've\": \"should not have\", \"so've\": \"so have\",\"so's\": \"so as\",\n",
    "                           \"this's\": \"this is\",\"that'd\": \"that would\", \"that'd've\": \"that would have\", \"that's\": \"that is\", \"there'd\": \"there would\",\n",
    "                           \"there'd've\": \"there would have\", \"there's\": \"there is\", \"here's\": \"here is\",\"they'd\": \"they would\", \"they'd've\": \"they would have\",\n",
    "                           \"they'll\": \"they will\", \"they'll've\": \"they will have\", \"they're\": \"they are\", \"they've\": \"they have\", \"to've\": \"to have\",\n",
    "                           \"wasn't\": \"was not\", \"we'd\": \"we would\", \"we'd've\": \"we would have\", \"we'll\": \"we will\", \"we'll've\": \"we will have\", \"we're\": \"we are\",\n",
    "                           \"we've\": \"we have\", \"weren't\": \"were not\", \"what'll\": \"what will\", \"what'll've\": \"what will have\", \"what're\": \"what are\",\n",
    "                           \"what's\": \"what is\", \"what've\": \"what have\", \"when's\": \"when is\", \"when've\": \"when have\", \"where'd\": \"where did\", \"where's\": \"where is\",\n",
    "                           \"where've\": \"where have\", \"who'll\": \"who will\", \"who'll've\": \"who will have\", \"who's\": \"who is\", \"who've\": \"who have\",\n",
    "                           \"why's\": \"why is\", \"why've\": \"why have\", \"will've\": \"will have\", \"won't\": \"will not\", \"won't've\": \"will not have\",\n",
    "                           \"would've\": \"would have\", \"wouldn't\": \"would not\", \"wouldn't've\": \"would not have\", \"y'all\": \"you all\",\n",
    "                           \"y'all'd\": \"you all would\",\"y'all'd've\": \"you all would have\",\"y'all're\": \"you all are\",\"y'all've\": \"you all have\",\n",
    "                           \"you'd\": \"you would\", \"you'd've\": \"you would have\", \"you'll\": \"you will\", \"you'll've\": \"you will have\",\n",
    "                           \"you're\": \"you are\", \"you've\": \"you have\"}"
   ]
  },
  {
   "cell_type": "markdown",
   "metadata": {},
   "source": [
    "# ***For removing stopwords***"
   ]
  },
  {
   "cell_type": "code",
   "execution_count": 7,
   "metadata": {
    "id": "XZr-u3OEFxdT"
   },
   "outputs": [],
   "source": [
    "stop_words = set(stopwords.words('english')) "
   ]
  },
  {
   "cell_type": "markdown",
   "metadata": {},
   "source": [
    "# ***Function for cleaning reviews and summaries***"
   ]
  },
  {
   "cell_type": "code",
   "execution_count": 8,
   "metadata": {},
   "outputs": [],
   "source": [
    "def text_cleaner(text,num):\n",
    "    newString = text.lower()\n",
    "    newString = BeautifulSoup(newString, \"lxml\").text\n",
    "    newString = re.sub(r'\\([^)]*\\)', '', newString)\n",
    "    newString = re.sub('\"','', newString)\n",
    "    newString = ' '.join([contraction_mapping[t] if t in contraction_mapping else t for t in newString.split(\" \")])    \n",
    "    newString = re.sub(r\"'s\\b\",\"\",newString)\n",
    "    newString = re.sub(\"[^a-zA-Z]\", \" \", newString) \n",
    "    newString = re.sub('[m]{2,}', 'mm', newString)\n",
    "    if(num==0):\n",
    "        tokens = [w for w in newString.split() if not w in stop_words]\n",
    "    else:\n",
    "        tokens=newString.split()\n",
    "    long_words=[]\n",
    "    for i in tokens:\n",
    "        if len(i)>1:                                                 #removing short word\n",
    "            long_words.append(i)   \n",
    "    return (\" \".join(long_words)).strip()"
   ]
  },
  {
   "cell_type": "markdown",
   "metadata": {},
   "source": [
    "# ***cleaning reviews and displaying***"
   ]
  },
  {
   "cell_type": "code",
   "execution_count": 9,
   "metadata": {
    "id": "A2QAeCHWFxdY"
   },
   "outputs": [
    {
     "data": {
      "text/plain": [
       "['bought several vitality canned dog food products found good quality product looks like stew processed meat smells better labrador finicky appreciates product better',\n",
       " 'product arrived labeled jumbo salted peanuts peanuts actually small sized unsalted sure error vendor intended represent product jumbo',\n",
       " 'confection around centuries light pillowy citrus gelatin nuts case filberts cut tiny squares liberally coated powdered sugar tiny mouthful heaven chewy flavorful highly recommend yummy treat familiar story lewis lion witch wardrobe treat seduces edmund selling brother sisters witch',\n",
       " 'looking secret ingredient robitussin believe found got addition root beer extract ordered made cherry soda flavor medicinal',\n",
       " 'great taffy great price wide assortment yummy taffy delivery quick taffy lover deal']"
      ]
     },
     "execution_count": 9,
     "metadata": {},
     "output_type": "execute_result"
    }
   ],
   "source": [
    "#call the function\n",
    "cleaned_text = []\n",
    "for t in data['Text']:\n",
    "    cleaned_text.append(text_cleaner(t,0))\n",
    "cleaned_text[:5]  "
   ]
  },
  {
   "cell_type": "markdown",
   "metadata": {},
   "source": [
    "# ***cleaning summaries and displaying***"
   ]
  },
  {
   "cell_type": "code",
   "execution_count": 10,
   "metadata": {
    "id": "GsRXocxoFxd-"
   },
   "outputs": [
    {
     "data": {
      "text/plain": [
       "['good quality dog food',\n",
       " 'not as advertised',\n",
       " 'delight says it all',\n",
       " 'cough medicine',\n",
       " 'great taffy',\n",
       " 'nice taffy',\n",
       " 'great just as good as the expensive brands',\n",
       " 'wonderful tasty taffy',\n",
       " 'yay barley',\n",
       " 'healthy dog food']"
      ]
     },
     "execution_count": 10,
     "metadata": {},
     "output_type": "execute_result"
    }
   ],
   "source": [
    "#call the function\n",
    "cleaned_summary = []\n",
    "for t in data['Summary']:\n",
    "    cleaned_summary.append(text_cleaner(t,1))\n",
    "cleaned_summary[:10]"
   ]
  },
  {
   "cell_type": "markdown",
   "metadata": {},
   "source": [
    "# ***Adding columns into the dataset***"
   ]
  },
  {
   "cell_type": "code",
   "execution_count": 11,
   "metadata": {
    "id": "L1zLpnqsFxey"
   },
   "outputs": [],
   "source": [
    "data['cleaned_text']=cleaned_text\n",
    "data['cleaned_summary']=cleaned_summary"
   ]
  },
  {
   "cell_type": "markdown",
   "metadata": {},
   "source": [
    "# ***Dropping empty rows***"
   ]
  },
  {
   "cell_type": "code",
   "execution_count": 12,
   "metadata": {
    "id": "sYK390unFxfA"
   },
   "outputs": [],
   "source": [
    "data.replace('', np.nan, inplace=True)\n",
    "data.dropna(axis=0,inplace=True)"
   ]
  },
  {
   "cell_type": "markdown",
   "metadata": {},
   "source": [
    "# ***Visualization distribution of reviews and summaries***"
   ]
  },
  {
   "cell_type": "code",
   "execution_count": 13,
   "metadata": {
    "id": "MdF76AHHFxgw",
    "outputId": "e3bbe165-4235-482f-bfd4-36a3f1d95290"
   },
   "outputs": [
    {
     "data": {
      "image/png": "[encoded data removed]",
      "text/plain": [
       "<Figure size 432x288 with 2 Axes>"
      ]
     },
     "metadata": {
      "needs_background": "light"
     },
     "output_type": "display_data"
    }
   ],
   "source": [
    "import matplotlib.pyplot as plt\n",
    "\n",
    "text_word_count = []\n",
    "summary_word_count = []\n",
    "\n",
    "# populate the lists with sentence lengths\n",
    "for i in data['cleaned_text']:\n",
    "      text_word_count.append(len(i.split()))\n",
    "\n",
    "for i in data['cleaned_summary']:\n",
    "      summary_word_count.append(len(i.split()))\n",
    "\n",
    "length_df = pd.DataFrame({'text':text_word_count, 'summary':summary_word_count})\n",
    "\n",
    "length_df.hist(bins = 30)\n",
    "plt.show()"
   ]
  },
  {
   "cell_type": "code",
   "execution_count": 14,
   "metadata": {
    "id": "7JRjwdIOFxg3",
    "outputId": "f968be82-c539-471d-ce23-16f18b059ea0"
   },
   "outputs": [
    {
     "name": "stdout",
     "output_type": "stream",
     "text": [
      "0.9788683772679426\n"
     ]
    }
   ],
   "source": [
    "cnt=0\n",
    "for i in data['cleaned_summary']:\n",
    "    if(len(i.split())<=10):\n",
    "        cnt=cnt+1\n",
    "print(cnt/len(data['cleaned_summary']))"
   ]
  },
  {
   "cell_type": "code",
   "execution_count": 15,
   "metadata": {},
   "outputs": [
    {
     "name": "stdout",
     "output_type": "stream",
     "text": [
      "0.9076637502688142\n"
     ]
    }
   ],
   "source": [
    "cnt=0\n",
    "for i in data['cleaned_text']:\n",
    "    if(len(i.split())<=80):\n",
    "        cnt=cnt+1\n",
    "print(cnt/len(data['cleaned_text']))"
   ]
  },
  {
   "cell_type": "code",
   "execution_count": 16,
   "metadata": {
    "id": "ZKD5VOWqFxhC"
   },
   "outputs": [],
   "source": [
    "max_text_len=80\n",
    "max_summary_len=10"
   ]
  },
  {
   "cell_type": "markdown",
   "metadata": {},
   "source": [
    "# ***getting rid of outliers***"
   ]
  },
  {
   "cell_type": "code",
   "execution_count": 17,
   "metadata": {
    "id": "yY0tEJP0FxhI"
   },
   "outputs": [],
   "source": [
    "cleaned_text =np.array(data['cleaned_text'])\n",
    "cleaned_summary=np.array(data['cleaned_summary'])\n",
    "\n",
    "short_text=[]\n",
    "short_summary=[]\n",
    "\n",
    "for i in range(len(cleaned_text)):\n",
    "    if(len(cleaned_text[i].split())<=max_text_len):\n",
    "        short_text.append(cleaned_text[i])\n",
    "        short_summary.append(cleaned_summary[i])\n",
    "        \n",
    "df=pd.DataFrame({'text':short_text,'summary':short_summary})"
   ]
  },
  {
   "cell_type": "markdown",
   "metadata": {},
   "source": [
    "# ***Adding tokens at the beginning and the end of summary***"
   ]
  },
  {
   "cell_type": "code",
   "execution_count": 18,
   "metadata": {
    "id": "EwLUH78CFxhg"
   },
   "outputs": [],
   "source": [
    "df['summary'] = df['summary'].apply(lambda x : 'sostok '+ x + ' eostok')"
   ]
  },
  {
   "cell_type": "code",
   "execution_count": 19,
   "metadata": {},
   "outputs": [
    {
     "name": "stdout",
     "output_type": "stream",
     "text": [
      "Review: bought several vitality canned dog food products found good quality product looks like stew processed meat smells better labrador finicky appreciates product better\n",
      "Summary: sostok good quality dog food eostok\n",
      "\n",
      "\n",
      "Review: product arrived labeled jumbo salted peanuts peanuts actually small sized unsalted sure error vendor intended represent product jumbo\n",
      "Summary: sostok not as advertised eostok\n",
      "\n",
      "\n",
      "Review: confection around centuries light pillowy citrus gelatin nuts case filberts cut tiny squares liberally coated powdered sugar tiny mouthful heaven chewy flavorful highly recommend yummy treat familiar story lewis lion witch wardrobe treat seduces edmund selling brother sisters witch\n",
      "Summary: sostok delight says it all eostok\n",
      "\n",
      "\n",
      "Review: looking secret ingredient robitussin believe found got addition root beer extract ordered made cherry soda flavor medicinal\n",
      "Summary: sostok cough medicine eostok\n",
      "\n",
      "\n",
      "Review: great taffy great price wide assortment yummy taffy delivery quick taffy lover deal\n",
      "Summary: sostok great taffy eostok\n",
      "\n",
      "\n"
     ]
    }
   ],
   "source": [
    "for i in range(5):\n",
    "    print(\"Review:\",df['text'][i])\n",
    "    print(\"Summary:\",df['summary'][i])\n",
    "    print(\"\\n\")"
   ]
  },
  {
   "cell_type": "markdown",
   "metadata": {},
   "source": [
    "# ***splitting traing and test set***"
   ]
  },
  {
   "cell_type": "code",
   "execution_count": 20,
   "metadata": {
    "id": "RakakKHcFxhl",
    "scrolled": true
   },
   "outputs": [],
   "source": [
    "from sklearn.model_selection import train_test_split\n",
    "x_tr,x_val,y_tr,y_val=train_test_split(np.array(df['text']),np.array(df['summary']),test_size=0.1,random_state=0,shuffle=True)"
   ]
  },
  {
   "cell_type": "code",
   "execution_count": null,
   "metadata": {},
   "outputs": [],
   "source": []
  },
  {
   "cell_type": "markdown",
   "metadata": {},
   "source": [
    "# ***prepare a tokenizer for reviews on training data***"
   ]
  },
  {
   "cell_type": "code",
   "execution_count": 21,
   "metadata": {
    "id": "oRHTgX6hFxhq"
   },
   "outputs": [],
   "source": [
    "x_tokenizer = Tokenizer() \n",
    "x_tokenizer.fit_on_texts(list(x_tr))"
   ]
  },
  {
   "cell_type": "markdown",
   "metadata": {},
   "source": [
    "# ***calculating number of rare and common words in reviews***"
   ]
  },
  {
   "cell_type": "code",
   "execution_count": 22,
   "metadata": {
    "id": "y8KronV2Fxhx",
    "outputId": "d2eb2f27-fbbc-4e61-9556-3c3ff5e4327b"
   },
   "outputs": [
    {
     "name": "stdout",
     "output_type": "stream",
     "text": [
      "% of rare words in vocabulary: 64.82162778001947\n",
      "Total Coverage of rare words: 1.736668392441108\n"
     ]
    }
   ],
   "source": [
    "thresh=4\n",
    "\n",
    "cnt=0\n",
    "tot_cnt=0\n",
    "freq=0\n",
    "tot_freq=0\n",
    "\n",
    "for key,value in x_tokenizer.word_counts.items():\n",
    "    tot_cnt=tot_cnt+1\n",
    "    tot_freq=tot_freq+value\n",
    "    if(value<thresh):\n",
    "        cnt=cnt+1\n",
    "        freq=freq+value\n",
    "    \n",
    "print(\"% of rare words in vocabulary:\",(cnt/tot_cnt)*100)\n",
    "print(\"Total Coverage of rare words:\",(freq/tot_freq)*100)"
   ]
  },
  {
   "cell_type": "markdown",
   "metadata": {},
   "source": [
    "# ***defining tokenizer with most common words for reviews***"
   ]
  },
  {
   "cell_type": "code",
   "execution_count": 23,
   "metadata": {
    "id": "J2giEsF3Fxh3"
   },
   "outputs": [],
   "source": [
    "#prepare a tokenizer for reviews on training data\n",
    "x_tokenizer = Tokenizer(num_words=tot_cnt-cnt) \n",
    "x_tokenizer.fit_on_texts(list(x_tr))\n",
    "\n",
    "#convert text sequences into integer sequences\n",
    "x_tr_seq    =   x_tokenizer.texts_to_sequences(x_tr) \n",
    "x_val_seq   =   x_tokenizer.texts_to_sequences(x_val)\n",
    "\n",
    "#padding zero upto maximum length\n",
    "x_tr    =   pad_sequences(x_tr_seq,  maxlen=max_text_len, padding='post')\n",
    "x_val   =   pad_sequences(x_val_seq, maxlen=max_text_len, padding='post')\n",
    "\n",
    "#size of vocabulary ( +1 for padding token)\n",
    "x_voc   =  x_tokenizer.num_words + 1"
   ]
  },
  {
   "cell_type": "code",
   "execution_count": 24,
   "metadata": {
    "id": "DCbGMsm4FxiA",
    "outputId": "2d9165f0-e542-4114-91f3-e070d483fce9"
   },
   "outputs": [
    {
     "data": {
      "text/plain": [
       "14822"
      ]
     },
     "execution_count": 24,
     "metadata": {},
     "output_type": "execute_result"
    }
   ],
   "source": [
    "x_voc"
   ]
  },
  {
   "cell_type": "markdown",
   "metadata": {},
   "source": [
    "# ***prepare a tokenizer for summaries on training data***"
   ]
  },
  {
   "cell_type": "code",
   "execution_count": 25,
   "metadata": {
    "id": "eRHqyBkBFxiJ"
   },
   "outputs": [],
   "source": [
    "y_tokenizer = Tokenizer()\n",
    "y_tokenizer.fit_on_texts(list(y_tr))"
   ]
  },
  {
   "cell_type": "markdown",
   "metadata": {},
   "source": [
    "# ***calculating number of rare and common words in summaries***"
   ]
  },
  {
   "cell_type": "code",
   "execution_count": 26,
   "metadata": {
    "id": "yzE5OiRLFxiM",
    "outputId": "7f7a4f89-b088-4847-8172-09e5a2383d0e"
   },
   "outputs": [
    {
     "name": "stdout",
     "output_type": "stream",
     "text": [
      "% of rare words in vocabulary: 75.71924411878133\n",
      "Total Coverage of rare words: 3.9229166320949957\n"
     ]
    }
   ],
   "source": [
    "thresh=6\n",
    "\n",
    "cnt=0\n",
    "tot_cnt=0\n",
    "freq=0\n",
    "tot_freq=0\n",
    "\n",
    "for key,value in y_tokenizer.word_counts.items():\n",
    "    tot_cnt=tot_cnt+1\n",
    "    tot_freq=tot_freq+value\n",
    "    if(value<thresh):\n",
    "        cnt=cnt+1\n",
    "        freq=freq+value\n",
    "    \n",
    "print(\"% of rare words in vocabulary:\",(cnt/tot_cnt)*100)\n",
    "print(\"Total Coverage of rare words:\",(freq/tot_freq)*100)"
   ]
  },
  {
   "cell_type": "markdown",
   "metadata": {},
   "source": [
    "# ***defining tokenizer with most common words for summaries***"
   ]
  },
  {
   "cell_type": "code",
   "execution_count": 27,
   "metadata": {
    "id": "-fswLvIgFxiR"
   },
   "outputs": [],
   "source": [
    "#prepare a tokenizer for summaries on training data\n",
    "y_tokenizer = Tokenizer(num_words=tot_cnt-cnt) \n",
    "y_tokenizer.fit_on_texts(list(y_tr))\n",
    "\n",
    "#convert text sequences into integer sequences\n",
    "y_tr_seq    =   y_tokenizer.texts_to_sequences(y_tr) \n",
    "y_val_seq   =   y_tokenizer.texts_to_sequences(y_val) \n",
    "\n",
    "#padding zero upto maximum length\n",
    "y_tr    =   pad_sequences(y_tr_seq, maxlen=max_summary_len, padding='post')\n",
    "y_val   =   pad_sequences(y_val_seq, maxlen=max_summary_len, padding='post')\n",
    "\n",
    "#size of vocabulary\n",
    "y_voc  =   y_tokenizer.num_words +1"
   ]
  },
  {
   "cell_type": "markdown",
   "metadata": {},
   "source": [
    "# ***checking word count of start token is equal to length of the training data***"
   ]
  },
  {
   "cell_type": "code",
   "execution_count": 28,
   "metadata": {
    "id": "pR8IX9FRFxiY",
    "outputId": "b116cdbd-42c4-4ede-9f6d-46284115393e"
   },
   "outputs": [
    {
     "data": {
      "text/plain": [
       "(72173, 72173)"
      ]
     },
     "execution_count": 28,
     "metadata": {},
     "output_type": "execute_result"
    }
   ],
   "source": [
    "y_tokenizer.word_counts['sostok'],len(y_tr)"
   ]
  },
  {
   "cell_type": "markdown",
   "metadata": {},
   "source": [
    "# ***deleting the rows that contain only START and END tokens***"
   ]
  },
  {
   "cell_type": "code",
   "execution_count": 29,
   "metadata": {
    "id": "kZ-vW82sFxih"
   },
   "outputs": [],
   "source": [
    "ind=[]\n",
    "for i in range(len(y_tr)):\n",
    "    cnt=0\n",
    "    for j in y_tr[i]:\n",
    "        if j!=0:\n",
    "            cnt=cnt+1\n",
    "    if(cnt==2):\n",
    "        ind.append(i)\n",
    "\n",
    "y_tr=np.delete(y_tr,ind, axis=0)\n",
    "x_tr=np.delete(x_tr,ind, axis=0)"
   ]
  },
  {
   "cell_type": "code",
   "execution_count": 30,
   "metadata": {
    "id": "cx5NISuMFxik"
   },
   "outputs": [],
   "source": [
    "ind=[]\n",
    "for i in range(len(y_val)):\n",
    "    cnt=0\n",
    "    for j in y_val[i]:\n",
    "        if j!=0:\n",
    "            cnt=cnt+1\n",
    "    if(cnt==2):\n",
    "        ind.append(i)\n",
    "\n",
    "y_val=np.delete(y_val,ind, axis=0)\n",
    "x_val=np.delete(x_val,ind, axis=0)"
   ]
  },
  {
   "cell_type": "markdown",
   "metadata": {},
   "source": [
    "# ***Model building, defining LSTM layers, Encoder and Decoder***"
   ]
  },
  {
   "cell_type": "code",
   "execution_count": 59,
   "metadata": {
    "_kg_hide-output": false,
    "id": "zXef38nBFxir",
    "outputId": "7ae99521-46f8-4c6f-9cba-4979deffeee8"
   },
   "outputs": [],
   "source": [
    "from tensorflow.keras.models import model_from_json\n",
    "# Model reconstruction from JSON file\n",
    "with open('/home/singhabhi/Downloads/summarization/model.json', 'r') as f:\n",
    "    model = model_from_json(f.read(),custom_objects={'AttentionLayer':AttentionLayer})"
   ]
  },
  {
   "cell_type": "code",
   "execution_count": 65,
   "metadata": {
    "id": "Lwfi1Fm8Fxiz",
    "scrolled": true
   },
   "outputs": [],
   "source": [
    "model.compile(optimizer='rmsprop', loss='sparse_categorical_crossentropy')"
   ]
  },
  {
   "cell_type": "code",
   "execution_count": 66,
   "metadata": {},
   "outputs": [],
   "source": [
    "model.load_weights('/home/singhabhi/Downloads/summarization/model.h5')"
   ]
  },
  {
   "cell_type": "code",
   "execution_count": 68,
   "metadata": {},
   "outputs": [
    {
     "data": {
      "text/plain": [
       "[array([[ 0.06474411, -0.09531225,  0.02276673, ...,  0.08010434,\n",
       "         -0.00619397, -0.0635604 ],\n",
       "        [-0.01440849, -0.0033414 ,  0.0037362 , ...,  0.00875186,\n",
       "          0.01057385, -0.01759978],\n",
       "        [-0.01707516, -0.02241674,  0.00816982, ...,  0.04438147,\n",
       "         -0.01812486, -0.04457953],\n",
       "        ...,\n",
       "        [ 0.04186633, -0.02027748, -0.01012327, ...,  0.02491053,\n",
       "         -0.02253675, -0.04267329],\n",
       "        [ 0.01076787,  0.05915055,  0.01309771, ...,  0.04157045,\n",
       "          0.05813583, -0.00629552],\n",
       "        [ 0.04065908,  0.03699409,  0.03262031, ..., -0.01420193,\n",
       "          0.04998899, -0.03585323]], dtype=float32)]"
      ]
     },
     "execution_count": 68,
     "metadata": {},
     "output_type": "execute_result"
    }
   ],
   "source": []
  },
  {
   "cell_type": "code",
   "execution_count": 69,
   "metadata": {},
   "outputs": [
    {
     "data": {
      "text/plain": [
       "\"from tensorflow.keras.models import load_model\\n\\nmodel = load_model('/home/singhabhi/Downloads/summarization/summary(1).h5',\\n                   custom_objects={'AttentionLayer':AttentionLayer})\""
      ]
     },
     "execution_count": 69,
     "metadata": {},
     "output_type": "execute_result"
    }
   ],
   "source": [
    "'''from tensorflow.keras.models import load_model\n",
    "\n",
    "model = load_model('/home/singhabhi/Downloads/summarization/summary(1).h5',\n",
    "                   custom_objects={'AttentionLayer':AttentionLayer})'''"
   ]
  },
  {
   "cell_type": "markdown",
   "metadata": {},
   "source": [
    "# ***monitoring the validation loss***"
   ]
  },
  {
   "cell_type": "code",
   "execution_count": null,
   "metadata": {
    "id": "s-A3J92MUljB"
   },
   "outputs": [],
   "source": []
  },
  {
   "cell_type": "markdown",
   "metadata": {},
   "source": [
    "# ***train the model on a batch size of 512 and validate it on the 10% of dataset***"
   ]
  },
  {
   "cell_type": "code",
   "execution_count": 70,
   "metadata": {
    "scrolled": true
   },
   "outputs": [
    {
     "name": "stdout",
     "output_type": "stream",
     "text": [
      "Model: \"model\"\n",
      "__________________________________________________________________________________________________\n",
      "Layer (type)                    Output Shape         Param #     Connected to                     \n",
      "==================================================================================================\n",
      "input_1 (InputLayer)            [(None, 80)]         0                                            \n",
      "__________________________________________________________________________________________________\n",
      "embedding (Embedding)           (None, 80, 100)      1467000     input_1[0][0]                    \n",
      "__________________________________________________________________________________________________\n",
      "lstm (LSTM)                     [(None, 80, 300), (N 481200      embedding[0][0]                  \n",
      "__________________________________________________________________________________________________\n",
      "input_2 (InputLayer)            [(None, None)]       0                                            \n",
      "__________________________________________________________________________________________________\n",
      "lstm_1 (LSTM)                   [(None, 80, 300), (N 721200      lstm[0][0]                       \n",
      "__________________________________________________________________________________________________\n",
      "embedding_1 (Embedding)         (None, None, 100)    300600      input_2[0][0]                    \n",
      "__________________________________________________________________________________________________\n",
      "lstm_2 (LSTM)                   [(None, 80, 300), (N 721200      lstm_1[0][0]                     \n",
      "__________________________________________________________________________________________________\n",
      "lstm_3 (LSTM)                   [(None, None, 300),  481200      embedding_1[0][0]                \n",
      "                                                                 lstm_2[0][1]                     \n",
      "                                                                 lstm_2[0][2]                     \n",
      "__________________________________________________________________________________________________\n",
      "attention_layer (AttentionLayer ((None, None, 300),  180300      lstm_2[0][0]                     \n",
      "                                                                 lstm_3[0][0]                     \n",
      "__________________________________________________________________________________________________\n",
      "concat_layer (Concatenate)      (None, None, 600)    0           lstm_3[0][0]                     \n",
      "                                                                 attention_layer[0][0]            \n",
      "__________________________________________________________________________________________________\n",
      "time_distributed (TimeDistribut (None, None, 3006)   1806606     concat_layer[0][0]               \n",
      "==================================================================================================\n",
      "Total params: 6,159,306\n",
      "Trainable params: 6,159,306\n",
      "Non-trainable params: 0\n",
      "__________________________________________________________________________________________________\n"
     ]
    }
   ],
   "source": [
    "model.summary()"
   ]
  },
  {
   "cell_type": "code",
   "execution_count": 71,
   "metadata": {},
   "outputs": [],
   "source": [
    "from keras import backend as K\n",
    "\n",
    "#inp = model.input                                           # input placeholder\n",
    "outputs = [layer.output for layer in model.layers]      # all layer outputs\n",
    "#functors = [K.function([inp, K.learning_phase()], [out]) for out in outputs]    # evaluation functions"
   ]
  },
  {
   "cell_type": "code",
   "execution_count": 48,
   "metadata": {
    "scrolled": true
   },
   "outputs": [
    {
     "data": {
      "text/plain": [
       "[<tensorflow.python.keras.engine.input_layer.InputLayer at 0x7f5a7d05f0d0>,\n",
       " <tensorflow.python.keras.layers.embeddings.Embedding at 0x7f5a7d05f0a0>,\n",
       " <tensorflow.python.keras.layers.recurrent_v2.LSTM at 0x7f5a7a672730>,\n",
       " <tensorflow.python.keras.engine.input_layer.InputLayer at 0x7f5a7a483160>,\n",
       " <tensorflow.python.keras.layers.recurrent_v2.LSTM at 0x7f5a7a38ffd0>,\n",
       " <tensorflow.python.keras.layers.embeddings.Embedding at 0x7f5a7a39cf40>,\n",
       " <tensorflow.python.keras.layers.recurrent_v2.LSTM at 0x7f5a7a39cfd0>,\n",
       " <tensorflow.python.keras.layers.recurrent_v2.LSTM at 0x7f5a7a3a1fa0>,\n",
       " <attention_keras.layers.attention.AttentionLayer at 0x7f5a7a3a7d00>,\n",
       " <tensorflow.python.keras.layers.merge.Concatenate at 0x7f5a7a3a7fd0>,\n",
       " <tensorflow.python.keras.layers.wrappers.TimeDistributed at 0x7f5a7d05fca0>]"
      ]
     },
     "execution_count": 48,
     "metadata": {},
     "output_type": "execute_result"
    }
   ],
   "source": [
    "model.layers"
   ]
  },
  {
   "cell_type": "code",
   "execution_count": 72,
   "metadata": {},
   "outputs": [
    {
     "data": {
      "text/plain": [
       "[<tensorflow.python.keras.engine.input_layer.InputLayer at 0x7f5a78bff760>,\n",
       " <tensorflow.python.keras.layers.embeddings.Embedding at 0x7f5a78bffca0>,\n",
       " <tensorflow.python.keras.layers.recurrent_v2.LSTM at 0x7f5a78bff070>,\n",
       " <tensorflow.python.keras.engine.input_layer.InputLayer at 0x7f5a790a4c70>,\n",
       " <tensorflow.python.keras.layers.recurrent_v2.LSTM at 0x7f5a7a6919a0>,\n",
       " <tensorflow.python.keras.layers.embeddings.Embedding at 0x7f5a78d852e0>,\n",
       " <tensorflow.python.keras.layers.recurrent_v2.LSTM at 0x7f5a7a93abb0>,\n",
       " <tensorflow.python.keras.layers.recurrent_v2.LSTM at 0x7f5a78db8cd0>,\n",
       " <attention_keras.layers.attention.AttentionLayer at 0x7f5a7a433d90>,\n",
       " <tensorflow.python.keras.layers.merge.Concatenate at 0x7f5a790402b0>,\n",
       " <tensorflow.python.keras.layers.wrappers.TimeDistributed at 0x7f5a78f380a0>]"
      ]
     },
     "execution_count": 72,
     "metadata": {},
     "output_type": "execute_result"
    }
   ],
   "source": [
    "model.layers"
   ]
  },
  {
   "cell_type": "code",
   "execution_count": 73,
   "metadata": {},
   "outputs": [],
   "source": [
    "#Encoder\n",
    "encoder_inputs = outputs[0]\n",
    "\n",
    "#embedding layer\n",
    "enc_emb = outputs[1]\n",
    "\n",
    "#encoder lstm 1\n",
    "encoder_lstm1 = model.layers[2]\n",
    "encoder_output1, state_h1, state_c1 = outputs[2]\n",
    "\n",
    "#encoder lstm 2\n",
    "encoder_lstm2 = model.layers[4]\n",
    "encoder_output2, state_h2, state_c2 = outputs[4]\n",
    "#encoder lstm 3\n",
    "encoder_lstm3 = model.layers[6]\n",
    "encoder_outputs, state_h, state_c = outputs[6]\n",
    "\n",
    "# Set up the decoder, using `encoder_states` as initial state.\n",
    "decoder_inputs = outputs[3]\n",
    "\n",
    "#embedding layer\n",
    "dec_emb_layer = model.layers[5]\n",
    "dec_emb = outputs[5]\n",
    "\n",
    "decoder_lstm = model.layers[7]\n",
    "decoder_outputs,decoder_fwd_state, decoder_back_state = outputs[7]\n",
    "\n",
    "# Attention layer\n",
    "attn_layer = model.layers[8]\n",
    "attn_out, attn_states = outputs[8]\n",
    "\n",
    "# Concat attention input and decoder LSTM output\n",
    "decoder_concat_input = outputs[9]\n",
    "\n",
    "#dense layer\n",
    "decoder_dense = model.layers[10]\n",
    "decoder_outputs = outputs[10]"
   ]
  },
  {
   "cell_type": "code",
   "execution_count": 74,
   "metadata": {
    "_kg_hide-output": false,
    "id": "ETnPzA4OFxi3",
    "outputId": "477e374f-7cf2-4d60-f86e-2c49c9cebedb"
   },
   "outputs": [],
   "source": [
    "reverse_target_word_index=y_tokenizer.index_word\n",
    "reverse_source_word_index=x_tokenizer.index_word\n",
    "target_word_index=y_tokenizer.word_index"
   ]
  },
  {
   "cell_type": "markdown",
   "metadata": {},
   "source": [
    "# ***understanding the behavior of model over time***"
   ]
  },
  {
   "cell_type": "code",
   "execution_count": 75,
   "metadata": {},
   "outputs": [],
   "source": [
    "latent_dim = 300\n",
    "embedding_dim=100"
   ]
  },
  {
   "cell_type": "code",
   "execution_count": 76,
   "metadata": {
    "id": "tDTNLAURFxjE",
    "outputId": "e2ea6e44-3931-4014-97a1-03fa2a441228"
   },
   "outputs": [],
   "source": [
    "# Encode the input sequence to get the feature vector\n",
    "encoder_model = Model(inputs=encoder_inputs,outputs=[encoder_outputs, state_h, state_c])\n",
    "\n",
    "# Decoder setup\n",
    "# Below tensors will hold the states of the previous time step\n",
    "decoder_state_input_h = Input(shape=(latent_dim,))\n",
    "decoder_state_input_c = Input(shape=(latent_dim,))\n",
    "decoder_hidden_state_input = Input(shape=(max_text_len,latent_dim))\n",
    "\n",
    "# Get the embeddings of the decoder sequence\n",
    "dec_emb2= dec_emb_layer(decoder_inputs) \n",
    "# To predict the next word in the sequence, set the initial states to the states from the previous time step\n",
    "decoder_outputs2, state_h2, state_c2 = decoder_lstm(dec_emb2, initial_state=[decoder_state_input_h, decoder_state_input_c])\n",
    "\n",
    "#attention inference\n",
    "attn_out_inf, attn_states_inf = attn_layer([decoder_hidden_state_input, decoder_outputs2])\n",
    "decoder_inf_concat = Concatenate(axis=-1, name='concat')([decoder_outputs2, attn_out_inf])\n",
    "\n",
    "# A dense softmax layer to generate prob dist. over the target vocabulary\n",
    "decoder_outputs2 = decoder_dense(decoder_inf_concat) \n",
    "\n",
    "# Final decoder model\n",
    "decoder_model = Model(\n",
    "    [decoder_inputs] + [decoder_hidden_state_input,decoder_state_input_h, decoder_state_input_c],\n",
    "    [decoder_outputs2] + [state_h2, state_c2])"
   ]
  },
  {
   "cell_type": "markdown",
   "metadata": {},
   "source": [
    "# ***convert the index to word for summaries and reviews vocabulary***"
   ]
  },
  {
   "cell_type": "code",
   "execution_count": 77,
   "metadata": {
    "id": "sBX0zZnOFxjW"
   },
   "outputs": [],
   "source": [
    "def decode_sequence(input_seq):\n",
    "    # Encode the input as state vectors.\n",
    "    e_out, e_h, e_c = encoder_model.predict(input_seq)\n",
    "    \n",
    "    # Generate empty target sequence of length 1.\n",
    "    target_seq = np.zeros((1,1))\n",
    "    \n",
    "    # Populate the first word of target sequence with the start word.\n",
    "    target_seq[0, 0] = target_word_index['sostok']\n",
    "\n",
    "    stop_condition = False\n",
    "    decoded_sentence = ''\n",
    "    while not stop_condition:\n",
    "      \n",
    "        output_tokens, h, c = decoder_model.predict([target_seq] + [e_out, e_h, e_c])\n",
    "\n",
    "        # Sample a token\n",
    "        sampled_token_index = np.argmax(output_tokens[0, -1, :])\n",
    "        sampled_token = reverse_target_word_index[sampled_token_index]\n",
    "        \n",
    "        if(sampled_token!='eostok'):\n",
    "            decoded_sentence += ' '+sampled_token\n",
    "\n",
    "        # Exit condition: either hit max length or find stop word.\n",
    "        if (sampled_token == 'eostok'  or len(decoded_sentence.split()) >= (max_summary_len-1)):\n",
    "            stop_condition = True\n",
    "\n",
    "        # Update the target sequence (of length 1).\n",
    "        target_seq = np.zeros((1,1))\n",
    "        target_seq[0, 0] = sampled_token_index\n",
    "\n",
    "        # Update internal states\n",
    "        e_h, e_c = h, c\n",
    "\n",
    "    return decoded_sentence"
   ]
  },
  {
   "cell_type": "markdown",
   "metadata": {},
   "source": [
    "# ***Setting up the inference for the encoder and decoder***"
   ]
  },
  {
   "cell_type": "code",
   "execution_count": null,
   "metadata": {
    "id": "9QkrNV-4Fxjt"
   },
   "outputs": [],
   "source": []
  },
  {
   "cell_type": "markdown",
   "metadata": {},
   "source": [
    "# ***Defining a functio for implementation of the inference process***"
   ]
  },
  {
   "cell_type": "code",
   "execution_count": null,
   "metadata": {
    "id": "6f6TTFnBFxj6"
   },
   "outputs": [],
   "source": []
  },
  {
   "cell_type": "markdown",
   "metadata": {},
   "source": [
    "# ***converting an integer sequence to a word sequence for summaries and reviews***"
   ]
  },
  {
   "cell_type": "code",
   "execution_count": 78,
   "metadata": {
    "id": "aAUntznIFxj9"
   },
   "outputs": [],
   "source": [
    "def seq2summary(input_seq):\n",
    "    newString=''\n",
    "    for i in input_seq:\n",
    "        if((i!=0 and i!=target_word_index['sostok']) and i!=target_word_index['eostok']):\n",
    "            newString=newString+reverse_target_word_index[i]+' '\n",
    "    return newString\n",
    "\n",
    "def seq2text(input_seq):\n",
    "    newString=''\n",
    "    for i in input_seq:\n",
    "        if(i!=0):\n",
    "            newString=newString+reverse_source_word_index[i]+' '\n",
    "    return newString"
   ]
  },
  {
   "cell_type": "markdown",
   "metadata": {},
   "source": [
    "# ***displaying some summaries generated by the model***"
   ]
  },
  {
   "cell_type": "code",
   "execution_count": 79,
   "metadata": {
    "id": "BUtQmQTmFxkI",
    "outputId": "f407d9fc-e0cd-4082-98f5-bd1f562dc26f"
   },
   "outputs": [
    {
     "name": "stdout",
     "output_type": "stream",
     "text": [
      "Review: want reviewers noted poor quality cups half cups purchased explode coffee machine foil top cup sealed properly disappointing waste money real pain clean machine explosion coffee grounds unfortunate think tully best quality coffee particularly decaf find cups right heard starbucks going get cup business point hopefully sooner later \n",
      "Original summary: good tasting coffee poor quality cups \n",
      "Predicted summary:  great like\n",
      "\n",
      "\n",
      "Review: nothing product anywhere compares cope corn always served home holidays thanksgiving christmas easter loved corn pudding one thing dried corn pudding something completely different quite wonderful cannot find anywhere grocery stores thought maybe produced anymore looked line wow happy serving thanksgiving year cannot wait \n",
      "Original summary: wonderful of kind \n",
      "Predicted summary:  great to\n",
      "\n",
      "\n",
      "Review: special chocolatey pieces little waxy tasting cutting extra chocolate great substitute \n",
      "Original summary: yumm \n",
      "Predicted summary:  great to\n",
      "\n",
      "\n",
      "Review: love family except pricing bit steep usually get dollar store buck per package less half listed price \n",
      "Original summary: delish \n",
      "Predicted summary:  love it\n",
      "\n",
      "\n",
      "Review: pieces small like regular piece jerky good flavor though purchasing found lot cheaper local warehouse store \n",
      "Original summary: jerky \n",
      "Predicted summary:  product\n",
      "\n",
      "\n",
      "Review: coconut oil arrived well within time use daily coffee along sugar free cocoa powder tasty \n",
      "Original summary: nutiva organic extra virgin coconut oil \n",
      "Predicted summary:  great easy than easy than\n",
      "\n",
      "\n",
      "Review: switch black cherry nice black cherry cider type flavor bit carbonation drink naturally sweet discernable taste product comes rather small went straight glass could see stood ice gave main squeeze couple sips liked gave two thumbs bit milder tasting black cherry soda unpleasantly gave prefer cherries cream price right would probably buy available \n",
      "Original summary: good cherry flavor \n",
      "Predicted summary:  great for decaf\n",
      "\n",
      "\n",
      "Review: first experience yerba mate love stuff fresh tasting tried hot cold prefer cold travel mug place travel mug mesh strainer fill water refill starts lose flavor either way delicious reasonably priced \n",
      "Original summary: yerba mate \n",
      "Predicted summary:  love is stuff\n",
      "\n",
      "\n",
      "Review: aftertaste artificial sweetener terrible waste money box makes mention full nastiness yuck yuck yuck still taste chemical aftertaste least minutes tastes like sucked penny warned honestly understand star reviews bitter strong aftertaste \n",
      "Original summary: awful \n",
      "Predicted summary:  not are good are the three\n",
      "\n",
      "\n",
      "Review: organic saigon cinnamon best tasting cinnamon opinion much robust flavor like spice hunter saigon cinnamon gluten free \n",
      "Original summary: my favorite cinnamon \n",
      "Predicted summary:  great\n",
      "\n",
      "\n",
      "Review: flavor partially saved added sugar adds get stuck teeth got steep discount still would buy price point \n",
      "Original summary: saved by syrup \n",
      "Predicted summary:  great to\n",
      "\n",
      "\n",
      "Review: one perfect products hard time getting store live organic fruit found add water saucepan heat cup get soft fat apple slices make pie add food processor sauce cooking pleasures also get fresh apple juice definitely ordering keep package easy fold freshness bottom crisper fridge \n",
      "Original summary: re \n",
      "Predicted summary:  good but not the and\n",
      "\n",
      "\n",
      "Review: wanted say great deal shop cups anywhere else \n",
      "Original summary: coffee coffee coffee \n",
      "Predicted summary:  good stuff\n",
      "\n",
      "\n",
      "Review: tea excellent herbal tea love taste weak herbal tea used get commissary base stopped stocking checked amazon wanted sell case sold single packages swear said free shipping ordered seller add cart button ordered last night opened mail afternoon find charged shipping boxes ordered estimated arrival time week away kind money would expect overnight kind money could gotten couple cases change probably fault miss reading something aware shipping charges products \n",
      "Original summary: buy this somewhere else not from \n",
      "Predicted summary:  my you\n",
      "\n",
      "\n",
      "Review: great dog get treat ball first inserted hard insert amazes dog achieve task getting treat ball new like buy three deal get fourth free \n",
      "Original summary: everlasting treat \n",
      "Predicted summary:  my dog so it\n",
      "\n",
      "\n",
      "Review: best cereal favorite far good flavor excellent crunch high whole grains protein good milk yogurt also good ice cream topping kids call crunchies mommy put crunchies yogurt try grinding blender mixing crumbs natural peanut butter honey make balls serve great snack adults kids \n",
      "Original summary: fabulous \n",
      "Predicted summary:  great treat on\n",
      "\n",
      "\n",
      "Review: cookies years love find store used buy live san diego would like buy \n",
      "Original summary: very good \n",
      "Predicted summary:  great to\n",
      "\n",
      "\n",
      "Review: cat like food much eat way kd food vet prescribed food nugget texture cat prefers mush kd mix organic canned chicken type kitty fairly happy \n",
      "Original summary: tastier than other foods \n",
      "Predicted summary:  my lovers jack so it\n",
      "\n",
      "\n",
      "Review: much coffee drinker wolfgang vienna brand good strong mellow taste flavored coffees getting nerves good everyday coffee flavor everyone family visitors like would buy \n",
      "Original summary: this is very good \n",
      "Predicted summary:  not bad\n",
      "\n",
      "\n",
      "Review: distinct mushroomy flavor good bought entire case since much cheaper natural food stores use make sorts grains well soup course \n",
      "Original summary: tastes great \n",
      "Predicted summary:  not what worth\n",
      "\n",
      "\n",
      "Review: maybe dont like couscous stuff taste good rather hardy made hard get taste \n",
      "Original summary: yuk \n",
      "Predicted summary:  great this\n",
      "\n",
      "\n",
      "Review: carbquik baking mix blessing pancakes waffles wonderful diabetic use walden farms pancake syrup wonderful bought four times buy \n",
      "Original summary: nice \n",
      "Predicted summary:  great this\n",
      "\n",
      "\n",
      "Review: another one product changed formula back addicted status price use super saving shipping little less local stores walmart kicked cents per wish knew liked stuff much unique \n",
      "Original summary: great price and addictive product \n",
      "Predicted summary:  great to\n",
      "\n",
      "\n",
      "Review: wife big tea drinker trouble finding loose leaf decaf tea saw got gift along tea brewing raved good tea coffee drinker tea tastes like dirt says excellent tea likes much ordered \n",
      "Original summary: excellent tea \n",
      "Predicted summary:  great coffee\n",
      "\n",
      "\n",
      "Review: family really enjoys grove square hot cocoa milk chocolate keep supply hand excellent price made us choose brand taste makes us continually renew order \n",
      "Original summary: great taste for great price \n",
      "Predicted summary:  yummy\n",
      "\n",
      "\n",
      "Review: tea hard find joy find amazon large package full size boxes arrive enjoyment sugar plum delicious sweet warm feel good tea reminding christmas spice palate warm hibiscus barley rosehips think like sweet aromatic taste one tastes makes feel taken care special treat little like mom dad would make hot coco something like sweet rare special adore tea rather drink tea happy found \n",
      "Original summary: large discontinued delicious tea \n",
      "Predicted summary:  great coffee\n",
      "\n",
      "\n",
      "Review: start saying usually hate hot drinks including coffee tea tried loved drink least cups every morning breakfast add little vanilla soy milk splenda delicious treat \n",
      "Original summary: obsessed \n",
      "Predicted summary:  product\n",
      "\n",
      "\n",
      "Review: product nice find still get protein peanuts dont get much fat found really works nice much easier mix things rather regular peanut butter little expensive would like able get better deal two three time though \n",
      "Original summary: nice find \n",
      "Predicted summary:  great treat\n",
      "\n",
      "\n",
      "Review: dogs loved last long hoping lab mix hours gone going research see antlers bit denser little pricey go quick however dog destructive little beast like mine fine \n",
      "Original summary: dogs loved it but it goes quick \n",
      "Predicted summary:  not for me\n",
      "\n",
      "\n",
      "Review: goes great different kinds food potato chips ribs chicken etc six pack great way stock shelves versatile rub \n",
      "Original summary: great tasting rub \n",
      "Predicted summary:  great from than time\n",
      "\n",
      "\n",
      "Review: purchased could pleased results creates fluffy tasty cotton candy shipping several ones quite costly thanks amazon prime shipped free worth value kids loved \n",
      "Original summary: yum works great \n",
      "Predicted summary:  great to\n",
      "\n",
      "\n",
      "Review: heads love mrs mays love products regular customer liked simplicity ingredients fact organic vegan purchased case various items directly imagine surprise noticed box arrived said product china emailed confirmed product indeed produced china traveled china based recent problems related products made china longer buying mrs mays grown could described organic strikes best energy required ship product back us also strikes wasteful longer purchase product produce products locally grown organic ingredients back \n",
      "Original summary: tastes great but made in china \n"
     ]
    },
    {
     "name": "stdout",
     "output_type": "stream",
     "text": [
      "Predicted summary:  what ketchup\n",
      "\n",
      "\n",
      "Review: looked citric acid use cheese making could find decent price citric acid sold local health food store much less expensive free shipping topped great deal thank amazon \n",
      "Original summary: best citric acid available \n",
      "Predicted summary:  great to\n",
      "\n",
      "\n",
      "Review: seeds grow perfectly easy sprouter cup seeds days make full cups without give energy like radishes radishes overwhelm suttle flavors would like without radish touch radish perfect food someone loves radishes tried salads stews spaghetti sauce great eggs cheese sandwiches even radish taste \n",
      "Original summary: good if you like \n",
      "Predicted summary:  great treat\n",
      "\n",
      "\n",
      "Review: far decaf kcups tried favorite wish automatic ordering system coffee individual like dislike use oz cup water great \n",
      "Original summary: great coffee \n",
      "Predicted summary:  great to\n",
      "\n",
      "\n",
      "Review: first found popcorn local costco far best bagged popcorn mix ever contact cretors informed would amazon cannot wait taste become fan \n",
      "Original summary: very best \n",
      "Predicted summary:  good but not great\n",
      "\n",
      "\n",
      "Review: fruity right amount sweet tasting drink love flavor would definitely buy \n",
      "Original summary: love the taste \n",
      "Predicted summary:  good like\n",
      "\n",
      "\n",
      "Review: like soft cookie one may chocolate almond flavor comes right amount cookie sealed pouch open fresh come packs box need fiber diet get per cookie also get calories per cookie label box states cookies made whole grain quaker oats also made wheat read ingredients also contain soy bean oil important people allergic sensitive either ingredients would great keep car quick snack put lunch box children take school \n",
      "Original summary: tastes good \n",
      "Predicted summary:  and awesome black\n",
      "\n",
      "\n",
      "Review: loved taco bell jalapeno sauce ounce eager try chipotle flavor also disappointed actually taste great deal different jalapeno slight smoky flavor top spice like jalapeno sauce great tacos burritos burgers hot dogs veggie dip \n",
      "Original summary: delicious \n",
      "Predicted summary:  not are good are the three\n",
      "\n",
      "\n",
      "Review: tea strong might well waste time brewing chew leaves right container strong normal strong tea way instead bitter use keurig model cup size settings recommendation go largest setting largest cup fit keurig work get taste prefer also note smaller print warning use glass make iced tea warning worth paying attention \n",
      "Original summary: might as well chew it \n",
      "Predicted summary:  great coffee\n",
      "\n",
      "\n",
      "Review: either use little syrup pump put bottle want less syrup though \n",
      "Original summary: works well for the sf torani syrups \n",
      "Predicted summary:  good stuff\n",
      "\n",
      "\n",
      "Review: loved drink mix tasty easy use loved lower calories plan order product thirst quenching \n",
      "Original summary: loved this drink mix \n",
      "Predicted summary:  product\n",
      "\n",
      "\n",
      "Review: wheat free baby much cheaper local pet store wheat free kibbles kibble usually boring staple one dogs dance filling bowls get large size bites castor made difference sizes worked fine vegetables visible actually pretty kibble go figure still give fresh veggies especially carrots keep away like knowing getting veggies carrots broccoli digestible easy pick \n",
      "Original summary: wow kibble my dogs actually for \n",
      "Predicted summary:  the and\n",
      "\n",
      "\n",
      "Review: cereal would better humble opinion less sweet kid liked really sweet cereal adult grown although enjoyed crunchiness nutty taste bad simply sweet personal opinion like sweet cereal may suit fine \n",
      "Original summary: sorry little too sweet for my taste \n",
      "Predicted summary:  not bad\n",
      "\n",
      "\n",
      "Review: good bars gluten free favorite bar everything carry still good keep around hunger attack really want try something great try coconut cashew incredible like naughty \n",
      "Original summary: good for on the go \n",
      "Predicted summary:  great stuff\n",
      "\n",
      "\n",
      "Review: dog loves treats love took breath could smell across room breath smell get close face buy extra large use cut half small dog \n",
      "Original summary: yummy for dog \n",
      "Predicted summary:  my dog so these\n",
      "\n",
      "\n",
      "Review: purchasing product store could find tried whole foods world market couple specialty stores great ordering amazon water awesome steaming rice delivers sweetness without much coconut flavor \n",
      "Original summary: hydration delivered quickly \n",
      "Predicted summary:  great treat\n",
      "\n",
      "\n",
      "Review: coffee drink made denmark imported sold coca cola ingredient list short pretty non offensive coffee sugar potassium bicarbonate potassium citrate labeled preservatives sure reason last ingredient taste like sweet high quality coffee claims italian espresso style coffee suppose although expert milk cream taste good coffee like cold sweet coffee like drink contains mg caffeine strong average energy drink high end cup coffee contains calories fairly light department use artificial sweeteners \n",
      "Original summary: good coffee drink \n",
      "Predicted summary:  great this\n",
      "\n",
      "\n",
      "Review: great coffee stumble product searching discounted cups price good gave try highly recommend first cup fits well kcup flavor \n",
      "Original summary: great \n",
      "Predicted summary:  great of\n",
      "\n",
      "\n",
      "Review: family really happy found tea amazon enjoy favorites twinings english breakfast stash earl grey new favorite costs much less twinings tried ahmad english afternoon like twinings english afternoon really good prefer bergamot flavoring tried ahmad earl grey thier english breakfast yet cannot wait \n",
      "Original summary: wonderful tea so glad discovered this \n",
      "Predicted summary:  not are good are bitter\n",
      "\n",
      "\n",
      "Review: great product grows pretty quickly kitty fond im sure would rather eat grass outside \n",
      "Original summary: good product but not tasty enough \n",
      "Predicted summary:  great on\n",
      "\n",
      "\n",
      "Review: absolutely love product nice treat looking low calorie sweet snack name perfect says delight bars \n",
      "Original summary: this product is delicious \n",
      "Predicted summary:  my your so these\n",
      "\n",
      "\n",
      "Review: one eats cannot give best review son gobbles take star rating give stars since know organic worry eating review vegetables might deduct star seem care peas much \n",
      "Original summary: great for moms on the go \n",
      "Predicted summary:  great way\n",
      "\n",
      "\n",
      "Review: size bag great filling office candy dishes offices keep around public grazing mix candy good complaints anyone large enough bag lasts days candy fresh price would pay equivalent amount candy went local grocery store \n",
      "Original summary: good for the office \n",
      "Predicted summary:  good but yuck\n",
      "\n",
      "\n",
      "Review: looked forward christmas every year grandmother lived germany brother would get package candies would always send house received would call tease enjoying portion chocolates unfortunately grandmother passed away yearly packages stopped came along internet able find candies shipped excited received chocolates first year ordered could wait christmas eve surprise brother big hit matter else get every year long carry tradition giving brandy chocolate \n",
      "Original summary: german chocolate with yummy \n",
      "Predicted summary:  great to but\n",
      "\n",
      "\n",
      "Review: fed cats various grocery store premium cat foods found royal canin best ingredients results cat happy stays healthy weight loves food delivered amazon makes convenient yes pricey vet bills \n",
      "Original summary: best cat food \n",
      "Predicted summary:  my pretty love is\n",
      "\n",
      "\n",
      "Review: add tablespoon dishwasher load citric acid keeps mineral deposits check glasses sparkling city water extremely hard dishwasher would get clogged deposits longer also use shampooing rugs rinse water afterwards stays little sticky try use simple solutions keep home clean safe way clean \n",
      "Original summary: keeps dishwasher nice and clean \n",
      "Predicted summary:  is tea the and\n",
      "\n",
      "\n",
      "Review: tastes like iced tea buy starbucks like better make purified filtered water great tea \n",
      "Original summary: love it \n",
      "Predicted summary:  love is coffee\n",
      "\n",
      "\n",
      "Review: simply wanted good source lean protein hand quick meals would doctored quite lot spices veggies sauces palatable \n",
      "Original summary: very disappointed \n",
      "Predicted summary:  good stuff\n",
      "\n",
      "\n",
      "Review: chip person tasted one hooked flavor unique spicy right cannot go wrong chip happy tried \n",
      "Original summary: the best chip ever \n",
      "Predicted summary:  good but not great\n",
      "\n",
      "\n",
      "Review: love buying gum way cost local wholesale club works less cost buying store individually \n",
      "Original summary: idea but go to your local whole sale club \n",
      "Predicted summary:  love is stuff\n",
      "\n",
      "\n",
      "Review: would never tried purchasing love mints figured glad one favorites amazon price better stash site like mint tea like one \n",
      "Original summary: divine tea \n"
     ]
    },
    {
     "name": "stdout",
     "output_type": "stream",
     "text": [
      "Predicted summary:  and coffee favorite\n",
      "\n",
      "\n",
      "Review: big happybaby fans flavor pouch one favorites son two tried make baby food first introducing solids trouble finding fresh organic fruits vegetables certain times year apricot one would never thought combine apricots sweet potatoes combination works love really nutrient dense easy snack go son picky eater phase pouches help get veggies also think pouch reason behind current love dried apricots overall great flavor combination super nutritious food little ones find pouches runny like mentioned fyi \n",
      "Original summary: great flavor combination \n",
      "Predicted summary:  the out one taste the and\n",
      "\n",
      "\n",
      "Review: lately really getting espresso small espresso based energy drink comes close taste real thing possible drink kind light bitter compared similar beverages instance ounce starbucks doubleshot contains sugar fat calories even starbucks doubleshot light sugar fat calories terms caffeine per serving illy espresso drink mg opposed drinks bottom line want strong light european style espresso drink illy issimo great choice however enjoy smoother filling taste check starbucks doubleshots \n",
      "Original summary: rich flavor low calories \n",
      "Predicted summary:  great treat this\n",
      "\n",
      "\n",
      "Review: quite like banana nut bread still pretty good easy bring along go rich nutty flavor \n",
      "Original summary: nutty healthy alternative to donut \n",
      "Predicted summary:  not good\n",
      "\n",
      "\n",
      "Review: tea strong smoky flavor feel leafy though bitter think bit expensive found replacement guess paying fancy packaging opinion real waste especially go cups day like gunpowder green tea stronger pretty good available cheaper dilmah local indian stores \n",
      "Original summary: strong green tea \n",
      "Predicted summary:  great for thanks\n",
      "\n",
      "\n",
      "Review: friend coming visit little particular coffee especially keurig found thought well arrived opened said heck work keurig well haha works beautifully flavor great almost hate give great review though people want difficult get great \n",
      "Original summary: amazing \n",
      "Predicted summary:  great like\n",
      "\n",
      "\n",
      "Review: tried whim hearing veggie booty long time knew ready could certainly try new kind cheese puff previously thought day without cheetos day wasted big change best things ever taste like real cheese variation intensity flavor every single one taste exactly crunchy cheetos turn fingers orange trying couple bags purchased grocery store decided loved enough invest pack amazon okay maybe went little wild bag day gone judge try buy bag grocery store get pack happy \n",
      "Original summary: am no more cheetos for me \n",
      "Predicted summary:  great treat\n",
      "\n",
      "\n",
      "Review: first matcha worked way uji matcha expensive best matcha world grams came back great first getting spoiled uji matcha bitterness taste strong \n",
      "Original summary: an no matcha \n",
      "Predicted summary:  not what worth\n",
      "\n",
      "\n",
      "Review: suppose gluten free long time bread great slightly sweet taste much like gluten free breads dense better though price right use bread crumbs make meatballs something able recently good product money considering much gluten free diet costs could use bread however make decent pizza crust tried much else \n",
      "Original summary: amazing bread \n",
      "Predicted summary:  good stuff\n",
      "\n",
      "\n",
      "Review: eat right picky use supplement diet great source vitamins go actually drink one breakfast one bed buy sams bulk \n",
      "Original summary: taste great \n",
      "Predicted summary:  great of\n",
      "\n",
      "\n",
      "Review: really like matcha green tea tried organic brands matcha green tea mix well clump also tastes great \n",
      "Original summary: pure matcha green tea \n",
      "Predicted summary:  great coffee\n",
      "\n",
      "\n",
      "Review: coffee best long time good keeps local coffee shops hooked \n",
      "Original summary: best coffee \n",
      "Predicted summary:  and this\n",
      "\n",
      "\n",
      "Review: surprised yummy chips kids adore artificial anything important kids diet eliminates artificial coloring preservatives flavors thing kept higher star rating choice oil used coat chips problem oil believe fat good us great thing coat chips oil heat create free radicals said ingredient list says sunflower safflower canola oil hmm definitive sunflower safflower oil good canola want kids eat sigh yummy possibility spoiled canola oil \n",
      "Original summary: love these with one caveat \n",
      "Predicted summary:  not are good are the formula\n",
      "\n",
      "\n",
      "Review: friend told new capsules available fit nespresso machine tried espressivo blend pleasantly surprised machine little hard close worked fine like smooth taste crema top great sold also trying environmentally aware important like whole deal bio well \n",
      "Original summary: like it \n",
      "Predicted summary:  great to\n",
      "\n",
      "\n",
      "Review: know review actual product want people aware situation normally trust amazon would recommend products amazon com however condition received box treats unacceptable purchased believed new unopened box dog treats received open box tape around sides including tear tab torn cannot tell treats missing definitely new box treats \n",
      "Original summary: not what ordered \n",
      "Predicted summary:  my snack love these\n",
      "\n",
      "\n",
      "Review: due food allergies pancake mix ingredients able liked fact needed make pancakes water need add eggs milk etc unable eat read reviews figured sounds good give try really tried pkg ordered amazon get pkg really stinks taste add cinnamon since food allergies perhaps thats reason taste think sweet like another reviewer said going eat syrup complaint matter long cooked always seemed raw inside would order kind \n",
      "Original summary: disappointed \n",
      "Predicted summary:  love is stuff\n",
      "\n",
      "\n",
      "Review: good quality product medium grain cook quickly taste great good value versus buying single packages grocery store even south often carry instant grits cook em add cheddar heavy cream dash tabasco sauce top sauteed shrimp quick tasty meal anytime oh yeah good breakfast \n",
      "Original summary: good quality good value \n",
      "Predicted summary:  not bad\n",
      "\n",
      "\n",
      "Review: bulk paprika black cloud food industry ready storm spice section local grocers suggest take cover immediately least invest sturdy \n",
      "Original summary: hot item \n",
      "Predicted summary:  great stuff\n",
      "\n",
      "\n",
      "Review: used buy world market however discontinued forced buy online rose violet flavors good however like anise flavor strong licorice tasting carry purse freshen breath really good also tin cute \n",
      "Original summary: yum \n",
      "Predicted summary:  not as good\n",
      "\n",
      "\n",
      "Review: three fairly big dogs pounds love chew love chips last long enough give good chew little bit odor unpleasant linger also leave stains carpet price great compared similar chips retail outlets marked one star get every bag hefty rest \n",
      "Original summary: my dogs love these things \n",
      "Predicted summary:  my dog so is\n",
      "\n",
      "\n",
      "Review: whole family loves hot chocolate went entire box less week smooth creamy chocolate delight combine cup coffee makes perfect cafe mocha must buy \n",
      "Original summary: chocolate delight \n",
      "Predicted summary:  product\n",
      "\n",
      "\n",
      "Review: opened package found packets honey stingers counted counted times sure packets thin cardboard display box wrapped sealed plastic bag shipped sturdy cardboard box really want go hassle returning item guess pack would nice amazon shipped one packet \n",
      "Original summary: love these but only got of packets \n",
      "Predicted summary:  my you\n",
      "\n",
      "\n",
      "Review: monthly order two older decided try dog food softer pieces works great greyhound sheppard \n",
      "Original summary: my dogs love this and its worth the price \n",
      "Predicted summary:  my dog so is\n",
      "\n",
      "\n",
      "Review: stevia healthy alternative artificial sweetners fast shipping good service stevia packets packets buying bulk saves \n",
      "Original summary: great product and great service \n",
      "Predicted summary:  good stuff\n",
      "\n",
      "\n",
      "Review: eating wonderful cookies trip back childhood although often never really cookies true delight many imitators one ever beat nabisco marshmallow center cookie soft enough string pull like many others chocolate original sweet delight like remember \n",
      "Original summary: back to childhood \n",
      "Predicted summary:  product\n",
      "\n",
      "\n",
      "Review: love bare fruit cinnamon apple chips crunchy nicely seasoned low calories cant wait try types dried fruit form company delicious \n",
      "Original summary: great \n",
      "Predicted summary:  not my your\n",
      "\n",
      "\n",
      "Review: read community coffee good beloved around new orleans regular kona blue mountain drinker tempered expectations boy pleasantly surprised like full flavored coffee brewing choice dark roast aeropress followed sugar cream community dark roast tasty nice full flavor sweet non bitter aftertaste obviously everybody taste different pleased one \n",
      "Original summary: better than \n"
     ]
    },
    {
     "name": "stdout",
     "output_type": "stream",
     "text": [
      "Predicted summary:  not for me\n",
      "\n",
      "\n",
      "Review: heaven forbid run usually order one box time dogs small always buy lite teenie greenies dogs love much anything ask get one come call matter think get greenie reward give one two little dogs greenie everynight bedtime know routine well till one runs bed actually opens kennel door paws waits greenie never seen dog yet love greenies even almost toothless year old schnauzer loves greenies \n",
      "Original summary: my dogs go crazy for these \n",
      "Predicted summary:  my snack love these\n",
      "\n",
      "\n",
      "Review: reluctant try velveeta skillets dinner kit cannot stand hamburger helper product reminded however really surprised much liked box meal bursting flavor unlike box meals really taste ingredients cheese broccoli chicken velveeta brand box meals best tried thus far really simple make make good size dinner portion price cannot go wrong velveeta chicken broccoli skillets dinner kit hit family well waiting go buy one today disappointed \n",
      "Original summary: move over hamburger helper \n",
      "Predicted summary:  great popcorn\n",
      "\n",
      "\n",
      "Review: never tasted spam finding turkey spam definitely tastes turkey great source emergency food tastes great making spam sushi amazon great prices item \n",
      "Original summary: turkey spam healthy meat \n",
      "Predicted summary:  great to\n",
      "\n",
      "\n",
      "Review: eat chips often favorites flavor texture traditional tortilla chips subtle lime flavoring makes special lime flavoring appears seasoning sprinkled chips seem minimal flavor find looking still none quite enough tastes wish chips hint lime \n",
      "Original summary: tasty \n",
      "Predicted summary:  not as good\n",
      "\n",
      "\n",
      "Review: giving little one rice cereal since months old loves allergies anything loves much every meal time full smiles cute messes \n",
      "Original summary: my baby loves this \n",
      "Predicted summary:  great for the price\n",
      "\n",
      "\n",
      "Review: nice flavor bitter really like coffee searching coffee pleases whole family tastes one \n",
      "Original summary: excellent \n",
      "Predicted summary:  great this\n",
      "\n",
      "\n",
      "Review: great dogs love one almost every room prevents chewing stuff \n",
      "Original summary: dental \n",
      "Predicted summary:  my snack love these\n",
      "\n",
      "\n",
      "Review: discovered salsa trip costa rica many restaurants costa rica use lizano salsa dishes prepare also available condiment everywhere like salt pepper excited see could buy states mostly use hispanic dishes cook adds great flavor everything recommend salsa sorry \n",
      "Original summary: best salsa for cooking \n",
      "Predicted summary:  and treat nuts olive water\n",
      "\n",
      "\n",
      "Review: since reporting problem thickness consistency chews thin resolved problem ordered extra large pound dog wanted something could get teeth dog loves great job keeping teeth breath clean pleasent quality good \n",
      "Original summary: consistency problem \n",
      "Predicted summary:  what tea much where\n",
      "\n",
      "\n",
      "Review: anchovies could buy area canned could reused opening left bottle bellino found amazon unfortunately ordered four bottles one leaked box contacted seller willingly refunded thank speedy service great solution search satisfied customer \n",
      "Original summary: could not find any bottled anchovies in my sooo \n",
      "Predicted summary:  love these\n",
      "\n",
      "\n",
      "Review: love seasoning chicken easy make great stuff \n",
      "Original summary: great stuff \n",
      "Predicted summary:  great of\n",
      "\n",
      "\n",
      "Review: really looking forward cacao powder really wanted like really good tastes mild taste really get bitter taste rich taste use bland bitter \n",
      "Original summary: not good \n",
      "Predicted summary:  good\n",
      "\n",
      "\n"
     ]
    }
   ],
   "source": [
    "for i in range(0,100):\n",
    "    print(\"Review:\",seq2text(x_tr[i]))\n",
    "    print(\"Original summary:\",seq2summary(y_tr[i]))\n",
    "    print(\"Predicted summary:\",decode_sequence(x_tr[i].reshape(1,max_text_len)))\n",
    "    print(\"\\n\")"
   ]
  },
  {
   "cell_type": "code",
   "execution_count": null,
   "metadata": {},
   "outputs": [],
   "source": []
  }
 ],
 "metadata": {
  "kernelspec": {
   "display_name": "Python 3",
   "language": "python",
   "name": "python3"
  },
  "language_info": {
   "codemirror_mode": {
    "name": "ipython",
    "version": 3
   },
   "file_extension": ".py",
   "mimetype": "text/x-python",
   "name": "python",
   "nbconvert_exporter": "python",
   "pygments_lexer": "ipython3",
   "version": "3.8.3"
  }
 },
 "nbformat": 4,
 "nbformat_minor": 4
}
